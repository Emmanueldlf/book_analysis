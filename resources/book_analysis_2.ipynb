{
 "cells": [
  {
   "cell_type": "code",
   "execution_count": 2,
   "id": "20abe69d-a0fc-4220-bd51-216614d46d45",
   "metadata": {},
   "outputs": [],
   "source": [
    "with open(\"miracle_in_the_andes.txt\", \"r\") as file:\n",
    "    book = file.read()"
   ]
  },
  {
   "cell_type": "markdown",
   "id": "560cb91a-5b5e-46c8-83a5-3fe2cb0c0d4b",
   "metadata": {},
   "source": [
    "##Identifying the most used words in a book"
   ]
  },
  {
   "cell_type": "code",
   "execution_count": 3,
   "id": "c7795944-0e83-4032-8114-0ea488d54f7a",
   "metadata": {},
   "outputs": [],
   "source": [
    "import re"
   ]
  },
  {
   "cell_type": "code",
   "execution_count": 22,
   "id": "90385893-7d79-4fe5-beeb-3a777e6a3b69",
   "metadata": {},
   "outputs": [
    {
     "data": {
      "text/plain": [
       "['chapter', 'before', 'it', 'was', 'friday']"
      ]
     },
     "execution_count": 22,
     "metadata": {},
     "output_type": "execute_result"
    }
   ],
   "source": [
    "pattern = re.compile(\"[a-zA-Z]+\")\n",
    "results = re.findall(pattern, book.lower())\n",
    "results[:5]"
   ]
  },
  {
   "cell_type": "code",
   "execution_count": 25,
   "id": "d476d079-9828-443d-984e-46f65d965b03",
   "metadata": {},
   "outputs": [],
   "source": [
    "words = {}\n",
    "for word in results:\n",
    "    if word in words.keys():\n",
    "        words[word] = words[word] + 1\n",
    "    else:\n",
    "        words[word] = 1"
   ]
  },
  {
   "cell_type": "code",
   "execution_count": 28,
   "id": "1b37d2c7-8d6c-4af1-aea6-5addd1c14347",
   "metadata": {
    "scrolled": true
   },
   "outputs": [
    {
     "data": {
      "text/plain": [
       "[(5346, 'the'), (2795, 'and'), (2729, 'i'), (2400, 'to'), (2060, 'of')]"
      ]
     },
     "execution_count": 28,
     "metadata": {},
     "output_type": "execute_result"
    }
   ],
   "source": [
    "words_list = [(value, key) for (key, value) in words.items()]\n",
    "words_list = sorted(words_list, reverse=True)\n",
    "words_list[:5]"
   ]
  },
  {
   "cell_type": "code",
   "execution_count": 29,
   "id": "03c1d1c7-c11f-4999-aa3c-5a7c4742880a",
   "metadata": {
    "scrolled": true
   },
   "outputs": [
    {
     "name": "stdout",
     "output_type": "stream",
     "text": [
      "Requirement already satisfied: nltk in /home/emmanueldlf/.local/share/virtualenvs/book_analysis-8c3HessF/lib/python3.10/site-packages (3.8.1)\n",
      "Requirement already satisfied: click in /home/emmanueldlf/.local/share/virtualenvs/book_analysis-8c3HessF/lib/python3.10/site-packages (from nltk) (8.1.7)\n",
      "Requirement already satisfied: joblib in /home/emmanueldlf/.local/share/virtualenvs/book_analysis-8c3HessF/lib/python3.10/site-packages (from nltk) (1.3.2)\n",
      "Requirement already satisfied: regex>=2021.8.3 in /home/emmanueldlf/.local/share/virtualenvs/book_analysis-8c3HessF/lib/python3.10/site-packages (from nltk) (2023.10.3)\n",
      "Requirement already satisfied: tqdm in /home/emmanueldlf/.local/share/virtualenvs/book_analysis-8c3HessF/lib/python3.10/site-packages (from nltk) (4.66.1)\n"
     ]
    }
   ],
   "source": [
    "!pip3.10 install nltk"
   ]
  },
  {
   "cell_type": "code",
   "execution_count": 30,
   "id": "54906e2c-49c5-445b-b881-615639bbd966",
   "metadata": {},
   "outputs": [
    {
     "name": "stderr",
     "output_type": "stream",
     "text": [
      "[nltk_data] Downloading package stopwords to\n",
      "[nltk_data]     /home/emmanueldlf/nltk_data...\n",
      "[nltk_data]   Package stopwords is already up-to-date!\n"
     ]
    },
    {
     "data": {
      "text/plain": [
       "True"
      ]
     },
     "execution_count": 30,
     "metadata": {},
     "output_type": "execute_result"
    }
   ],
   "source": [
    "import nltk\n",
    "nltk.download('stopwords')"
   ]
  },
  {
   "cell_type": "code",
   "execution_count": 31,
   "id": "10ff99d8-2d01-42ee-9398-4d93bca7297c",
   "metadata": {},
   "outputs": [],
   "source": [
    "from nltk.corpus import stopwords"
   ]
  },
  {
   "cell_type": "code",
   "execution_count": 32,
   "id": "e77dae10-42d9-459c-ac7e-82b181ed25ec",
   "metadata": {},
   "outputs": [],
   "source": [
    "english_stopwords = stopwords.words(\"english\")"
   ]
  },
  {
   "cell_type": "code",
   "execution_count": 33,
   "id": "fe59ee29-7b5d-4d89-a9c2-8403315d3171",
   "metadata": {},
   "outputs": [],
   "source": [
    "filtered_words = []\n",
    "for count, word in words_list:\n",
    "    if word not in english_stopwords:\n",
    "        filtered_words.append((word, count))"
   ]
  },
  {
   "cell_type": "code",
   "execution_count": 34,
   "id": "5fd07b94-e4a3-4ac5-9ad2-f569c2ba9d30",
   "metadata": {},
   "outputs": [
    {
     "data": {
      "text/plain": [
       "[('would', 575),\n",
       " ('us', 519),\n",
       " ('said', 292),\n",
       " ('roberto', 284),\n",
       " ('could', 252),\n",
       " ('one', 249),\n",
       " ('snow', 227),\n",
       " ('mountain', 183),\n",
       " ('time', 182),\n",
       " ('like', 165)]"
      ]
     },
     "execution_count": 34,
     "metadata": {},
     "output_type": "execute_result"
    }
   ],
   "source": [
    "filtered_words[:10]"
   ]
  },
  {
   "cell_type": "markdown",
   "id": "7c6ca601-939d-49ed-84f0-1ef10623203d",
   "metadata": {},
   "source": [
    "###Sentiment analysis, identifying the most positive and the most negative chapter"
   ]
  },
  {
   "cell_type": "code",
   "execution_count": 35,
   "id": "83709a9f-5600-4b43-9ed2-a55f55a1ff5f",
   "metadata": {},
   "outputs": [],
   "source": [
    "from nltk.sentiment import SentimentIntensityAnalyzer"
   ]
  },
  {
   "cell_type": "code",
   "execution_count": 36,
   "id": "5d73e61e-e3b4-46c5-b336-5de73cb813ae",
   "metadata": {},
   "outputs": [
    {
     "name": "stderr",
     "output_type": "stream",
     "text": [
      "[nltk_data] Downloading package vader_lexicon to\n",
      "[nltk_data]     /home/emmanueldlf/nltk_data...\n",
      "[nltk_data]   Package vader_lexicon is already up-to-date!\n"
     ]
    },
    {
     "data": {
      "text/plain": [
       "True"
      ]
     },
     "execution_count": 36,
     "metadata": {},
     "output_type": "execute_result"
    }
   ],
   "source": [
    "nltk.download('vader_lexicon')"
   ]
  },
  {
   "cell_type": "code",
   "execution_count": 37,
   "id": "8a4508d1-5159-4c75-862e-8ca05005563d",
   "metadata": {},
   "outputs": [],
   "source": [
    "analyzer = SentimentIntensityAnalyzer()"
   ]
  },
  {
   "cell_type": "code",
   "execution_count": 38,
   "id": "539b10aa-c6c8-440e-8d58-00c52ff8ea29",
   "metadata": {},
   "outputs": [],
   "source": [
    "scores = analyzer.polarity_scores(\"\")"
   ]
  },
  {
   "cell_type": "code",
   "execution_count": 39,
   "id": "a72e86a2-dc40-4cce-85a6-1ad6d97dead5",
   "metadata": {},
   "outputs": [
    {
     "name": "stdout",
     "output_type": "stream",
     "text": [
      "Not so uplifting\n"
     ]
    }
   ],
   "source": [
    "if scores[\"pos\"] > scores[\"neg\"]:\n",
    "    print(\"It is a positive read\")\n",
    "else:\n",
    "    print(\"Not so uplifting\")"
   ]
  },
  {
   "cell_type": "code",
   "execution_count": 40,
   "id": "1a2e927b-3614-4e63-a3ef-aa3f53cd7cc9",
   "metadata": {},
   "outputs": [
    {
     "data": {
      "text/plain": [
       "{'neg': 0.116, 'neu': 0.76, 'pos': 0.125, 'compound': 1.0}"
      ]
     },
     "execution_count": 40,
     "metadata": {},
     "output_type": "execute_result"
    }
   ],
   "source": [
    "analyzer.polarity_scores(book)"
   ]
  },
  {
   "cell_type": "markdown",
   "id": "d43cdf52-0c02-4929-b777-df03c56b4331",
   "metadata": {},
   "source": [
    "##Sentiment analysis by chapters"
   ]
  },
  {
   "cell_type": "code",
   "execution_count": 41,
   "id": "17472f6c-51f0-4be0-91bb-b404712e0ed2",
   "metadata": {},
   "outputs": [],
   "source": [
    "import re\n",
    "pattern = re.compile(\"Chapter [0-9]+\")\n",
    "chapters = re.split(pattern, book)"
   ]
  },
  {
   "cell_type": "code",
   "execution_count": 42,
   "id": "e428fe16-b0ee-4bda-8d75-e6a3c3d6d23d",
   "metadata": {},
   "outputs": [],
   "source": [
    "chapters = chapters[1:]"
   ]
  },
  {
   "cell_type": "code",
   "execution_count": 43,
   "id": "bb063c6f-a9d4-4124-b162-5c59c8a76ea1",
   "metadata": {},
   "outputs": [
    {
     "name": "stdout",
     "output_type": "stream",
     "text": [
      "{'neg': 0.061, 'neu': 0.779, 'pos': 0.16, 'compound': 1.0}\n",
      "{'neg': 0.12, 'neu': 0.726, 'pos': 0.154, 'compound': 0.9991}\n",
      "{'neg': 0.145, 'neu': 0.751, 'pos': 0.105, 'compound': -0.9999}\n",
      "{'neg': 0.141, 'neu': 0.721, 'pos': 0.138, 'compound': -0.9963}\n",
      "{'neg': 0.118, 'neu': 0.742, 'pos': 0.141, 'compound': 0.9997}\n",
      "{'neg': 0.124, 'neu': 0.761, 'pos': 0.115, 'compound': -0.9979}\n",
      "{'neg': 0.136, 'neu': 0.761, 'pos': 0.103, 'compound': -0.9999}\n",
      "{'neg': 0.12, 'neu': 0.786, 'pos': 0.094, 'compound': -0.9998}\n",
      "{'neg': 0.097, 'neu': 0.824, 'pos': 0.079, 'compound': -0.9996}\n",
      "{'neg': 0.086, 'neu': 0.733, 'pos': 0.181, 'compound': 1.0}\n"
     ]
    }
   ],
   "source": [
    "for nb, chapter in enumerate(chapters):\n",
    "    scores = analyzer.polarity_scores(chapter)\n",
    "    print(scores)"
   ]
  },
  {
   "cell_type": "code",
   "execution_count": null,
   "id": "07c0ac98-361b-45eb-9671-d7cb5198d418",
   "metadata": {},
   "outputs": [],
   "source": []
  },
  {
   "cell_type": "code",
   "execution_count": null,
   "id": "f7c3ce5b-e654-4ba0-9d7f-1e8e79ac1144",
   "metadata": {},
   "outputs": [],
   "source": []
  }
 ],
 "metadata": {
  "kernelspec": {
   "display_name": "Python 3 (ipykernel)",
   "language": "python",
   "name": "python3"
  },
  "language_info": {
   "codemirror_mode": {
    "name": "ipython",
    "version": 3
   },
   "file_extension": ".py",
   "mimetype": "text/x-python",
   "name": "python",
   "nbconvert_exporter": "python",
   "pygments_lexer": "ipython3",
   "version": "3.10.6"
  }
 },
 "nbformat": 4,
 "nbformat_minor": 5
}
